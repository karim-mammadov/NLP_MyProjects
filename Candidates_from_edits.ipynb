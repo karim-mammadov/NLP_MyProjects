{
  "cells": [
    {
      "cell_type": "markdown",
      "metadata": {
        "id": "view-in-github",
        "colab_type": "text"
      },
      "source": [
        "<a href=\"https://colab.research.google.com/github/karim-mammadov/NLP_MyProjects/blob/main/Candidates_from_edits.ipynb\" target=\"_parent\"><img src=\"https://colab.research.google.com/assets/colab-badge.svg\" alt=\"Open In Colab\"/></a>"
      ]
    },
    {
      "cell_type": "markdown",
      "metadata": {
        "id": "B4GBYRyKx-io"
      },
      "source": [
        "# NLP Course 2 Week 1 Lesson : Building The Model - Lecture Exercise 02\n",
        "Estimated Time: 20 minutes\n",
        "<br>\n",
        "# Candidates from String Edits\n",
        "Create a list of candidate strings by applying an edit operation\n",
        "<br>\n",
        "### Imports and Data"
      ]
    },
    {
      "cell_type": "code",
      "execution_count": null,
      "metadata": {
        "id": "lTYEhgyLx-ir"
      },
      "outputs": [],
      "source": [
        "# data\n",
        "word = 'dearz' # 🦌"
      ]
    },
    {
      "cell_type": "markdown",
      "metadata": {
        "id": "INjQ6GGFx-it"
      },
      "source": [
        "### Splits\n",
        "Find all the ways you can split a word into 2 parts !"
      ]
    },
    {
      "cell_type": "code",
      "execution_count": null,
      "metadata": {
        "id": "euS-kxZHx-it",
        "outputId": "9bcca9d3-2d59-483e-a760-bf7360825598"
      },
      "outputs": [
        {
          "name": "stdout",
          "output_type": "stream",
          "text": [
            "['', 'dearz']\n",
            "['d', 'earz']\n",
            "['de', 'arz']\n",
            "['dea', 'rz']\n",
            "['dear', 'z']\n",
            "['dearz', '']\n"
          ]
        }
      ],
      "source": [
        "# splits with a loop\n",
        "splits_a = []\n",
        "for i in range(len(word)+1):\n",
        "    splits_a.append([word[:i],word[i:]])\n",
        "\n",
        "for i in splits_a:\n",
        "    print(i)"
      ]
    },
    {
      "cell_type": "code",
      "execution_count": null,
      "metadata": {
        "id": "w3hRtjHQx-iu",
        "outputId": "881f8fb6-f51b-4a33-bed2-5eaf6035ece0"
      },
      "outputs": [
        {
          "name": "stdout",
          "output_type": "stream",
          "text": [
            "('', 'dearz')\n",
            "('d', 'earz')\n",
            "('de', 'arz')\n",
            "('dea', 'rz')\n",
            "('dear', 'z')\n",
            "('dearz', '')\n"
          ]
        }
      ],
      "source": [
        "# same splits, done using a list comprehension\n",
        "splits_b = [(word[:i], word[i:]) for i in range(len(word) + 1)]\n",
        "\n",
        "for i in splits_b:\n",
        "    print(i)"
      ]
    },
    {
      "cell_type": "markdown",
      "metadata": {
        "id": "f2gdoqOux-iv"
      },
      "source": [
        "### Delete Edit\n",
        "Delete a letter from each string in the `splits` list.\n",
        "<br>\n",
        "What this does is effectively delete each possible letter from the original word being edited."
      ]
    },
    {
      "cell_type": "code",
      "execution_count": null,
      "metadata": {
        "id": "OMPbHV5Rx-iv",
        "outputId": "8bc40bd1-7831-4b77-b207-14626f1c40fd"
      },
      "outputs": [
        {
          "name": "stdout",
          "output_type": "stream",
          "text": [
            "word :  dearz\n",
            "earz  <-- delete  d\n",
            "darz  <-- delete  e\n",
            "derz  <-- delete  a\n",
            "deaz  <-- delete  r\n",
            "dear  <-- delete  z\n"
          ]
        }
      ],
      "source": [
        "# deletes with a loop\n",
        "splits = splits_a\n",
        "deletes = []\n",
        "\n",
        "print('word : ', word)\n",
        "for L,R in splits:\n",
        "    if R:\n",
        "        print(L + R[1:], ' <-- delete ', R[0])"
      ]
    },
    {
      "cell_type": "markdown",
      "metadata": {
        "id": "l2nlEt2Fx-iv"
      },
      "source": [
        "It's worth taking a closer look at how this is excecuting a 'delete'.\n",
        "<br>\n",
        "Taking the first item from the `splits` list :"
      ]
    },
    {
      "cell_type": "code",
      "execution_count": null,
      "metadata": {
        "id": "NbTEggUIx-iw",
        "outputId": "ec99e509-7981-4402-bc31-b1630a8e0820"
      },
      "outputs": [
        {
          "name": "stdout",
          "output_type": "stream",
          "text": [
            "word :  dearz\n",
            "first item from the splits list :  ['', 'dearz']\n",
            "L :  \n",
            "R :  dearz\n",
            "*** now implicit delete by excluding the leading letter ***\n",
            "L + R[1:] :  earz  <-- delete  d\n"
          ]
        }
      ],
      "source": [
        "# breaking it down\n",
        "print('word : ', word)\n",
        "one_split = splits[0]\n",
        "print('first item from the splits list : ', one_split)\n",
        "L = one_split[0]\n",
        "R = one_split[1]\n",
        "print('L : ', L)\n",
        "print('R : ', R)\n",
        "print('*** now implicit delete by excluding the leading letter ***')\n",
        "print('L + R[1:] : ',L + R[1:], ' <-- delete ', R[0])"
      ]
    },
    {
      "cell_type": "markdown",
      "metadata": {
        "id": "eAthgUMgx-iw"
      },
      "source": [
        "So the end result transforms **'dearz'** to **'earz'** by deleting the first character.\n",
        "<br>\n",
        "And you use a **loop** (code block above) or a **list comprehension** (code block below) to do\n",
        "<br>\n",
        "this for the entire `splits` list."
      ]
    },
    {
      "cell_type": "code",
      "execution_count": null,
      "metadata": {
        "id": "Vu9sY9qqx-iw",
        "outputId": "616071e9-c9cf-49e1-a317-bedab29e0550"
      },
      "outputs": [
        {
          "name": "stdout",
          "output_type": "stream",
          "text": [
            "['earz', 'darz', 'derz', 'deaz', 'dear']\n",
            "*** which is the same as ***\n",
            "earz\n",
            "darz\n",
            "derz\n",
            "deaz\n",
            "dear\n"
          ]
        }
      ],
      "source": [
        "# deletes with a list comprehension\n",
        "splits = splits_a\n",
        "deletes = [L + R[1:] for L, R in splits if R]\n",
        "\n",
        "print(deletes)\n",
        "print('*** which is the same as ***')\n",
        "for i in deletes:\n",
        "    print(i)"
      ]
    },
    {
      "cell_type": "markdown",
      "metadata": {
        "id": "RT7ftSXbx-iw"
      },
      "source": [
        "### Ungraded Exercise\n",
        "You now have a list of ***candidate strings*** created after performing a **delete** edit.\n",
        "<br>\n",
        "Next step will be to filter this list for ***candidate words*** found in a vocabulary.\n",
        "<br>\n",
        "Given the example vocab below, can you think of a way to create a list of candidate words ?\n",
        "<br>\n",
        "Remember, you already have a list of candidate strings, some of which are certainly not actual words you might find in your vocabulary !\n",
        "<br>\n",
        "<br>\n",
        "So from the above list **earz, darz, derz, deaz, dear**.\n",
        "<br>\n",
        "You're really only interested in **dear**."
      ]
    },
    {
      "cell_type": "code",
      "execution_count": null,
      "metadata": {
        "id": "8Ncm6BWkx-iw",
        "outputId": "a22b5222-a054-4e2e-8c43-e50af43b23dc"
      },
      "outputs": [
        {
          "name": "stdout",
          "output_type": "stream",
          "text": [
            "vocab :  ['dean', 'deer', 'dear', 'fries', 'and', 'coke']\n",
            "edits :  ['earz', 'darz', 'derz', 'deaz', 'dear']\n",
            "candidate words :  []\n"
          ]
        }
      ],
      "source": [
        "vocab = ['dean','deer','dear','fries','and','coke']\n",
        "edits = list(deletes)\n",
        "\n",
        "print('vocab : ', vocab)\n",
        "print('edits : ', edits)\n",
        "\n",
        "candidates=[]\n",
        "\n",
        "### START CODE HERE ###\n",
        "#candidates = ??  # hint: 'set.intersection'\n",
        "### END CODE HERE ###\n",
        "\n",
        "print('candidate words : ', candidates)"
      ]
    },
    {
      "cell_type": "markdown",
      "metadata": {
        "id": "1S-5j4_-x-ix"
      },
      "source": [
        "Expected Outcome:\n",
        "\n",
        "vocab :  ['dean', 'deer', 'dear', 'fries', 'and', 'coke']\n",
        "<br>\n",
        "edits :  ['earz', 'darz', 'derz', 'deaz', 'dear']\n",
        "<br>\n",
        "candidate words :  {'dear'}"
      ]
    },
    {
      "cell_type": "markdown",
      "metadata": {
        "id": "_ah9i2uXx-ix"
      },
      "source": [
        "### Summary\n",
        "You've unpacked an integral part of the assignment by breaking down **splits** and **edits**, specifically looking at **deletes** here.\n",
        "<br>\n",
        "Implementation of the other edit types (insert, replace, switch) follows a similar methodology and should now feel somewhat familiar when you see them.\n",
        "<br>\n",
        "This bit of the code isn't as intuitive as other sections, so well done!\n",
        "<br>\n",
        "You should now feel confident facing some of the more technical parts of the assignment at the end of the week."
      ]
    }
  ],
  "metadata": {
    "kernelspec": {
      "display_name": "Python 3",
      "language": "python",
      "name": "python3"
    },
    "language_info": {
      "codemirror_mode": {
        "name": "ipython",
        "version": 3
      },
      "file_extension": ".py",
      "mimetype": "text/x-python",
      "name": "python",
      "nbconvert_exporter": "python",
      "pygments_lexer": "ipython3",
      "version": "3.7.6"
    },
    "colab": {
      "provenance": [],
      "include_colab_link": true
    }
  },
  "nbformat": 4,
  "nbformat_minor": 0
}