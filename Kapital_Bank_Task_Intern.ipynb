{
  "nbformat": 4,
  "nbformat_minor": 0,
  "metadata": {
    "colab": {
      "provenance": [],
      "gpuType": "T4",
      "include_colab_link": true
    },
    "kernelspec": {
      "name": "python3",
      "display_name": "Python 3"
    },
    "language_info": {
      "name": "python"
    },
    "accelerator": "GPU"
  },
  "cells": [
    {
      "cell_type": "markdown",
      "metadata": {
        "id": "view-in-github",
        "colab_type": "text"
      },
      "source": [
        "<a href=\"https://colab.research.google.com/github/karim-mammadov/NLP_MyProjects/blob/main/Kapital_Bank_Task_Intern.ipynb\" target=\"_parent\"><img src=\"https://colab.research.google.com/assets/colab-badge.svg\" alt=\"Open In Colab\"/></a>"
      ]
    },
    {
      "cell_type": "code",
      "execution_count": null,
      "metadata": {
        "id": "MjJ1eGd1ZyTs"
      },
      "outputs": [],
      "source": [
        "!pip install --upgrade pip\n",
        "!pip install --upgrade transformers datasets[audio] accelerate"
      ]
    },
    {
      "cell_type": "code",
      "source": [
        "import torch\n",
        "from transformers import AutoModelForSpeechSeq2Seq, AutoProcessor, pipeline\n",
        "from datasets import load_dataset\n",
        "\n",
        "\n",
        "device = \"cuda:0\" if torch.cuda.is_available() else \"cpu\"\n",
        "torch_dtype = torch.float16 if torch.cuda.is_available() else torch.float32\n",
        "\n",
        "model_id = \"openai/whisper-medium\"\n",
        "\n",
        "model = AutoModelForSpeechSeq2Seq.from_pretrained(\n",
        "    model_id, torch_dtype=torch_dtype, low_cpu_mem_usage=True, use_safetensors=True\n",
        ")\n",
        "model.to(device)\n",
        "\n",
        "processor = AutoProcessor.from_pretrained(model_id)\n",
        "\n",
        "pipe = pipeline(\n",
        "    \"automatic-speech-recognition\",\n",
        "    model=model,\n",
        "    tokenizer=processor.tokenizer,\n",
        "    feature_extractor=processor.feature_extractor,\n",
        "    torch_dtype=torch_dtype,\n",
        "    device=device,\n",
        ")\n",
        "\n",
        "# dataset = load_dataset(\"distil-whisper/librispeech_long\", \"clean\", split=\"validation\")\n",
        "# sample = dataset[0][\"audio\"]\n",
        "\n",
        "# result = pipe(sample)\n",
        "# print(result[\"text\"])\n"
      ],
      "metadata": {
        "id": "fLEhqrDWaNxj"
      },
      "execution_count": null,
      "outputs": []
    },
    {
      "cell_type": "code",
      "source": [
        "!pip install noisereduce"
      ],
      "metadata": {
        "id": "MzagoT8a_X8t"
      },
      "execution_count": null,
      "outputs": []
    },
    {
      "cell_type": "code",
      "source": [
        "import soundfile as sf\n",
        "import librosa\n",
        "import noisereduce as nr\n",
        "\n",
        "# Faylı 16kHz mono formatında oxu\n",
        "data, sr = librosa.load(\"/content/record_out (3).wav\", sr=16000, mono=True)\n",
        "\n",
        "# Noise reduction tətbiq et\n",
        "reduced_noise = nr.reduce_noise(y=data, sr=sr)\n",
        "\n",
        "# Pipeline-a dict formatında ötür\n",
        "result = pipe(\n",
        "    {\"array\": reduced_noise, \"sampling_rate\": sr},\n",
        "    generate_kwargs={\"language\": \"az\", \"num_beams\": 10, \"temperature\": 0.0}\n",
        ")\n",
        "print(result[\"text\"])\n"
      ],
      "metadata": {
        "colab": {
          "base_uri": "https://localhost:8080/"
        },
        "id": "cRxG_FjM7f6f",
        "outputId": "d9ddf42d-70d8-4e7f-ac2e-526583f64bbd"
      },
      "execution_count": null,
      "outputs": [
        {
          "output_type": "stream",
          "name": "stderr",
          "text": [
            "`return_token_timestamps` is deprecated for WhisperFeatureExtractor and will be removed in Transformers v5. Use `return_attention_mask` instead, as the number of frames can be inferred from it.\n"
          ]
        },
        {
          "output_type": "stream",
          "name": "stdout",
          "text": [
            " Salam! Mənim adım Kərimdir.\n"
          ]
        }
      ]
    },
    {
      "cell_type": "code",
      "source": [
        "# !pip install ffmpeg-python\n",
        "# return_toke_timestamps replace return_attention_mask"
      ],
      "metadata": {
        "id": "9k8KiXR8afrv"
      },
      "execution_count": null,
      "outputs": []
    },
    {
      "cell_type": "code",
      "source": [
        "# import soundfile as sf\n",
        "\n",
        "# # Load audio manually\n",
        "# data, samplerate = sf.read(\"/content/record_out (1).wav\")\n",
        "\n",
        "# # Optional: convert to mono if needed\n",
        "# if data.ndim > 1:\n",
        "#     data = data.mean(axis=1)\n",
        "\n",
        "# # Now pass raw audio to the pipeline\n",
        "# result = pipe(data)\n",
        "# print(result[\"text\"])"
      ],
      "metadata": {
        "id": "EG88ahIRd4qm"
      },
      "execution_count": null,
      "outputs": []
    }
  ]
}