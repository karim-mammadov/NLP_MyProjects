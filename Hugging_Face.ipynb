{
  "nbformat": 4,
  "nbformat_minor": 0,
  "metadata": {
    "colab": {
      "provenance": [],
      "gpuType": "T4",
      "include_colab_link": true
    },
    "kernelspec": {
      "name": "python3",
      "display_name": "Python 3"
    },
    "language_info": {
      "name": "python"
    },
    "accelerator": "GPU"
  },
  "cells": [
    {
      "cell_type": "markdown",
      "metadata": {
        "id": "view-in-github",
        "colab_type": "text"
      },
      "source": [
        "<a href=\"https://colab.research.google.com/github/karim-mammadov/NLP_MyProjects/blob/main/Hugging_Face.ipynb\" target=\"_parent\"><img src=\"https://colab.research.google.com/assets/colab-badge.svg\" alt=\"Open In Colab\"/></a>"
      ]
    },
    {
      "cell_type": "markdown",
      "source": [
        "#Hugging Face: Pipeline vs AutoModel"
      ],
      "metadata": {
        "id": "N8XtSqNSOF_G"
      }
    },
    {
      "cell_type": "markdown",
      "source": [
        "#sentiment-analysis"
      ],
      "metadata": {
        "id": "sIkPa7UERofr"
      }
    },
    {
      "cell_type": "code",
      "source": [
        "from transformers import pipeline\n",
        "\n",
        "\n",
        "classifier = pipeline(\"sentiment-analysis\")\n",
        "\n",
        "text = \"I hate teaching NLP with Hugging Face!\"\n",
        "\n",
        "result = classifier(text)\n",
        "print(result)\n"
      ],
      "metadata": {
        "id": "jOrxWrMqQt5p"
      },
      "execution_count": null,
      "outputs": []
    },
    {
      "cell_type": "code",
      "source": [
        "from transformers import AutoTokenizer, AutoModelForSequenceClassification\n",
        "import torch\n",
        "\n",
        "ckpt = \"distilbert-base-uncased-finetuned-sst-2-english\"\n",
        "\n",
        "\n",
        "tokenizer = AutoTokenizer.from_pretrained(ckpt)\n",
        "model = AutoModelForSequenceClassification.from_pretrained(ckpt)\n",
        "\n",
        "\n",
        "inputs = tokenizer(\"I love teaching NLP with Hugging Face!\", return_tensors=\"pt\")\n",
        "\n",
        "outputs = model(**inputs)\n",
        "\n",
        "\n",
        "probs = torch.nn.functional.softmax(outputs.logits, dim=-1)\n",
        "label_id = torch.argmax(probs).item()\n",
        "labels = model.config.id2label\n",
        "\n",
        "print(labels[label_id], probs[0][label_id].item())\n"
      ],
      "metadata": {
        "id": "QASMkw9nRZzj"
      },
      "execution_count": null,
      "outputs": []
    },
    {
      "cell_type": "code",
      "source": [
        "labels"
      ],
      "metadata": {
        "id": "WNfZd-dwrqX6"
      },
      "execution_count": null,
      "outputs": []
    },
    {
      "cell_type": "markdown",
      "source": [
        "#text-generation"
      ],
      "metadata": {
        "id": "7Hx1gaDySF6i"
      }
    },
    {
      "cell_type": "code",
      "source": [
        "from transformers import pipeline\n",
        "\n",
        "generator = pipeline(\"text-generation\", model=\"gpt2\")\n",
        "\n",
        "result = generator(\"Once upon a time\", max_length=30, num_return_sequences=1)\n",
        "print(result[0][\"generated_text\"])\n"
      ],
      "metadata": {
        "id": "9g578j7wRuAG"
      },
      "execution_count": null,
      "outputs": []
    },
    {
      "cell_type": "code",
      "source": [
        "from transformers import AutoTokenizer, AutoModelForCausalLM\n",
        "\n",
        "ckpt = \"gpt2\"\n",
        "\n",
        "tokenizer = AutoTokenizer.from_pretrained(ckpt)\n",
        "model = AutoModelForCausalLM.from_pretrained(ckpt)\n",
        "\n",
        "inputs = tokenizer(\"Once upon a time\", return_tensors=\"pt\")\n",
        "\n",
        "outputs = model.generate(inputs[\"input_ids\"], max_length=30, num_return_sequences=1)\n",
        "\n",
        "print(tokenizer.decode(outputs[0], skip_special_tokens=True))\n"
      ],
      "metadata": {
        "id": "CZP3oHz4R6Zm"
      },
      "execution_count": null,
      "outputs": []
    },
    {
      "cell_type": "code",
      "source": [
        "from transformers import BertModel, BertTokenizer\n",
        "model_name = \"bert-base-uncased\""
      ],
      "metadata": {
        "id": "A5XqyhdNUKSi"
      },
      "execution_count": null,
      "outputs": []
    },
    {
      "cell_type": "code",
      "source": [
        "tokenizer = BertTokenizer.from_pretrained(model_name)\n",
        "model = BertModel.from_pretrained(model_name)"
      ],
      "metadata": {
        "id": "NNCJXHwnUKPJ"
      },
      "execution_count": null,
      "outputs": []
    },
    {
      "cell_type": "code",
      "source": [
        "text = \"Salam dünya!\"\n",
        "inputs = tokenizer(text, return_tensors=\"pt\")"
      ],
      "metadata": {
        "id": "D_0MFk4AUKMq"
      },
      "execution_count": null,
      "outputs": []
    },
    {
      "cell_type": "code",
      "source": [
        "outputs = model(**inputs)\n",
        "print(outputs.last_hidden_state.shape)"
      ],
      "metadata": {
        "id": "-UAzD9e6VHMf"
      },
      "execution_count": null,
      "outputs": []
    },
    {
      "cell_type": "code",
      "source": [
        "from transformers import AutoConfig\n",
        "\n",
        "model_name = \"bert-base-uncased\"\n",
        "\n",
        "# Config yükləyirik\n",
        "config = AutoConfig.from_pretrained(model_name)\n",
        "\n",
        "print(config)\n",
        "print(\"Layer sayı:\", config.num_hidden_layers)\n",
        "print(\"Attention heads:\", config.num_attention_heads)"
      ],
      "metadata": {
        "id": "sJLpKNrfVIAN"
      },
      "execution_count": null,
      "outputs": []
    },
    {
      "cell_type": "code",
      "source": [],
      "metadata": {
        "id": "gIjjBwLQWkAQ"
      },
      "execution_count": null,
      "outputs": []
    }
  ]
}