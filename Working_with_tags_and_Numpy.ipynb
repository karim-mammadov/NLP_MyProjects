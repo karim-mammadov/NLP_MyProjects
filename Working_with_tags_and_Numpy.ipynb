{
  "cells": [
    {
      "cell_type": "markdown",
      "metadata": {
        "id": "view-in-github",
        "colab_type": "text"
      },
      "source": [
        "<a href=\"https://colab.research.google.com/github/karim-mammadov/NLP_MyProjects/blob/main/Working_with_tags_and_Numpy.ipynb\" target=\"_parent\"><img src=\"https://colab.research.google.com/assets/colab-badge.svg\" alt=\"Open In Colab\"/></a>"
      ]
    },
    {
      "cell_type": "markdown",
      "metadata": {
        "id": "Kk_P6kwtyw4X"
      },
      "source": [
        "# Parts-of-Speech Tagging - Working with tags and Numpy"
      ]
    },
    {
      "cell_type": "markdown",
      "source": [],
      "metadata": {
        "id": "QluJUoxqy3bp"
      }
    },
    {
      "cell_type": "markdown",
      "metadata": {
        "id": "4sn9s7kVyw4a"
      },
      "source": [
        "In this lecture notebook you will create a matrix using some tag information and then modify it using different approaches.\n",
        "This will serve as hands-on experience working with Numpy and as an introduction to some elements used for POS tagging."
      ]
    },
    {
      "cell_type": "code",
      "execution_count": null,
      "metadata": {
        "id": "Q1SVukJmyw4a"
      },
      "outputs": [],
      "source": [
        "import numpy as np\n",
        "import pandas as pd"
      ]
    },
    {
      "cell_type": "markdown",
      "metadata": {
        "id": "B4xZVJeSyw4b"
      },
      "source": [
        "### Some information on tags"
      ]
    },
    {
      "cell_type": "markdown",
      "metadata": {
        "id": "M7r06L7Iyw4b"
      },
      "source": [
        "For this notebook you will be using a toy example including only three tags (or states). In a real world application there are many more tags which can be found [here](https://www.ling.upenn.edu/courses/Fall_2003/ling001/penn_treebank_pos.html)."
      ]
    },
    {
      "cell_type": "code",
      "execution_count": null,
      "metadata": {
        "id": "yj_QY9FJyw4c"
      },
      "outputs": [],
      "source": [
        "# Define tags for Adverb, Noun and To (the preposition) , respectively\n",
        "tags = ['RB', 'NN', 'TO']"
      ]
    },
    {
      "cell_type": "markdown",
      "metadata": {
        "id": "1746sW0fyw4c"
      },
      "source": [
        "In this week's assignment you will construct some dictionaries that provide useful information of the tags and words you will be working with.\n",
        "\n",
        "One of these dictionaries is the `transition_counts` which counts the number of times a particular tag happened next to another. The keys of this dictionary have the form `(previous_tag, tag)` and the values are the frequency of occurrences.\n",
        "\n",
        "Another one is the `emission_counts` dictionary which will count the number of times a particular pair of `(tag, word)` appeared in the training dataset.\n",
        "\n",
        "In general think of `transition` when working with tags only and of `emission` when working with tags and words.\n",
        "\n",
        "In this notebook you will be looking at the first one:"
      ]
    },
    {
      "cell_type": "code",
      "execution_count": null,
      "metadata": {
        "id": "8hKZM2Mhyw4c"
      },
      "outputs": [],
      "source": [
        "# Define 'transition_counts' dictionary\n",
        "# Note: values are the same as the ones in the assignment\n",
        "transition_counts = {\n",
        "    ('NN', 'NN'): 16241,\n",
        "    ('RB', 'RB'): 2263,\n",
        "    ('TO', 'TO'): 2,\n",
        "    ('NN', 'TO'): 5256,\n",
        "    ('RB', 'TO'): 855,\n",
        "    ('TO', 'NN'): 734,\n",
        "    ('NN', 'RB'): 2431,\n",
        "    ('RB', 'NN'): 358,\n",
        "    ('TO', 'RB'): 200\n",
        "}"
      ]
    },
    {
      "cell_type": "markdown",
      "metadata": {
        "id": "uq3w7tJCyw4c"
      },
      "source": [
        "Notice that there are 9 combinations of the 3 tags used. Each tag can appear after the same tag so you should include those as well.\n",
        "\n",
        "### Using Numpy for matrix creation\n",
        "\n",
        "Now you will create a matrix that includes these frequencies using Numpy arrays:"
      ]
    },
    {
      "cell_type": "code",
      "execution_count": null,
      "metadata": {
        "id": "U7PEo5afyw4d",
        "outputId": "11362138-d21f-424c-ec11-e22091460154"
      },
      "outputs": [
        {
          "data": {
            "text/plain": [
              "array([[0., 0., 0.],\n",
              "       [0., 0., 0.],\n",
              "       [0., 0., 0.]])"
            ]
          },
          "execution_count": 4,
          "metadata": {},
          "output_type": "execute_result"
        }
      ],
      "source": [
        "# Store the number of tags in the 'num_tags' variable\n",
        "num_tags = len(tags)\n",
        "\n",
        "# Initialize a 3X3 numpy array with zeros\n",
        "transition_matrix = np.zeros((num_tags, num_tags))\n",
        "\n",
        "# Print matrix\n",
        "transition_matrix"
      ]
    },
    {
      "cell_type": "markdown",
      "metadata": {
        "id": "u5ZqUJvZyw4d"
      },
      "source": [
        "Visually you can see the matrix has the correct dimensions. Don't forget you can check this too using the `shape` attribute:"
      ]
    },
    {
      "cell_type": "code",
      "execution_count": null,
      "metadata": {
        "id": "lAUg054Kyw4e",
        "outputId": "e6ee41ef-e79f-4559-db65-4b0e404475ae"
      },
      "outputs": [
        {
          "data": {
            "text/plain": [
              "(3, 3)"
            ]
          },
          "execution_count": 5,
          "metadata": {},
          "output_type": "execute_result"
        }
      ],
      "source": [
        "# Print shape of the matrix\n",
        "transition_matrix.shape"
      ]
    },
    {
      "cell_type": "markdown",
      "metadata": {
        "id": "F-8EYr6ryw4e"
      },
      "source": [
        "Before filling this matrix with the values of the `transition_counts` dictionary you should sort the tags so that their placement in the matrix is consistent:"
      ]
    },
    {
      "cell_type": "code",
      "execution_count": null,
      "metadata": {
        "id": "CQNfu5yNyw4e",
        "outputId": "3410b8ba-0579-49a3-ea41-87e18e1554c2"
      },
      "outputs": [
        {
          "data": {
            "text/plain": [
              "['NN', 'RB', 'TO']"
            ]
          },
          "execution_count": 6,
          "metadata": {},
          "output_type": "execute_result"
        }
      ],
      "source": [
        "# Create sorted version of the tag's list\n",
        "sorted_tags = sorted(tags)\n",
        "\n",
        "# Print sorted list\n",
        "sorted_tags"
      ]
    },
    {
      "cell_type": "markdown",
      "metadata": {
        "id": "DSdlanopyw4e"
      },
      "source": [
        "To fill this matrix with the correct values you can use a `double for loop`. You could also use `itertools.product` to one line this double loop:"
      ]
    },
    {
      "cell_type": "code",
      "execution_count": null,
      "metadata": {
        "id": "wb141CWeyw4e",
        "outputId": "5ad20f41-23cc-44ad-84f0-50aa3f0e7aa1"
      },
      "outputs": [
        {
          "data": {
            "text/plain": [
              "array([[1.6241e+04, 2.4310e+03, 5.2560e+03],\n",
              "       [3.5800e+02, 2.2630e+03, 8.5500e+02],\n",
              "       [7.3400e+02, 2.0000e+02, 2.0000e+00]])"
            ]
          },
          "execution_count": 7,
          "metadata": {},
          "output_type": "execute_result"
        }
      ],
      "source": [
        "# Loop rows\n",
        "for i in range(num_tags):\n",
        "    # Loop columns\n",
        "    for j in range(num_tags):\n",
        "        # Define tag pair\n",
        "        tag_tuple = (sorted_tags[i], sorted_tags[j])\n",
        "        # Get frequency from transition_counts dict and assign to (i, j) position in the matrix\n",
        "        transition_matrix[i, j] = transition_counts.get(tag_tuple)\n",
        "\n",
        "# Print matrix\n",
        "transition_matrix"
      ]
    },
    {
      "cell_type": "markdown",
      "metadata": {
        "id": "Z148bwl7yw4e"
      },
      "source": [
        "Looks like this worked fine. However the matrix can be hard to read as `Numpy` is more about efficiency, rather than presenting values in a pretty format.\n",
        "\n",
        "For this you can use a `Pandas DataFrame`. In particular, a function that takes the matrix as input and prints out a pretty version of it will be very useful:"
      ]
    },
    {
      "cell_type": "code",
      "execution_count": null,
      "metadata": {
        "id": "ubKAo_GTyw4e"
      },
      "outputs": [],
      "source": [
        "# Define 'print_matrix' function\n",
        "def print_matrix(matrix):\n",
        "    print(pd.DataFrame(matrix, index=sorted_tags, columns=sorted_tags))"
      ]
    },
    {
      "cell_type": "markdown",
      "metadata": {
        "id": "qHD-FKdFyw4e"
      },
      "source": [
        "Notice that the tags are not a parameter of the function. This is because the `sorted_tags` list will not change in the rest of the notebook so it is safe to use the variable previously declared. To test this function simply run:"
      ]
    },
    {
      "cell_type": "code",
      "execution_count": null,
      "metadata": {
        "id": "lIJ74Uf5yw4e",
        "outputId": "531ed2cd-a270-4a62-a229-f34b4aca3c60"
      },
      "outputs": [
        {
          "name": "stdout",
          "output_type": "stream",
          "text": [
            "         NN      RB      TO\n",
            "NN  16241.0  2431.0  5256.0\n",
            "RB    358.0  2263.0   855.0\n",
            "TO    734.0   200.0     2.0\n"
          ]
        }
      ],
      "source": [
        "# Print the 'transition_matrix' by calling the 'print_matrix' function\n",
        "print_matrix(transition_matrix)"
      ]
    },
    {
      "cell_type": "markdown",
      "metadata": {
        "id": "SdIdEec2yw4f"
      },
      "source": [
        "That is a lot better, isn't it?\n",
        "\n",
        "As you may have already deducted this matrix is not symmetrical."
      ]
    },
    {
      "cell_type": "markdown",
      "metadata": {
        "id": "KbZFNbVgyw4f"
      },
      "source": [
        "### Working with Numpy for matrix manipulation"
      ]
    },
    {
      "cell_type": "markdown",
      "metadata": {
        "id": "99rtqPgRyw4f"
      },
      "source": [
        "Now that you got the matrix set up it is time to see how a matrix can be manipulated after being created.\n",
        "\n",
        "`Numpy` allows vectorized operations which means that operations that would normally include looping over the matrix can be done in a simpler manner. This is consistent with treating numpy arrays as matrices since you get support for common matrix operations. You can do matrix multiplication, scalar multiplication, vector addition and many more!\n",
        "\n",
        "For instance try scaling each value in the matrix by a factor of $\\frac{1}{10}$. Normally you would loop over each value in the matrix, updating them accordingly. But in Numpy this is as easy as dividing the whole matrix by 10:"
      ]
    },
    {
      "cell_type": "code",
      "execution_count": null,
      "metadata": {
        "id": "iStONz9nyw4f",
        "outputId": "048570a7-fb65-48ad-b81b-8d217f19d5f1"
      },
      "outputs": [
        {
          "name": "stdout",
          "output_type": "stream",
          "text": [
            "        NN     RB     TO\n",
            "NN  1624.1  243.1  525.6\n",
            "RB    35.8  226.3   85.5\n",
            "TO    73.4   20.0    0.2\n"
          ]
        }
      ],
      "source": [
        "# Scale transition matrix\n",
        "transition_matrix = transition_matrix/10\n",
        "\n",
        "# Print scaled matrix\n",
        "print_matrix(transition_matrix)"
      ]
    },
    {
      "cell_type": "markdown",
      "metadata": {
        "id": "ZQVqooElyw4f"
      },
      "source": [
        "Another trickier example is to normalize each row so that each value is equal to $\\frac{value}{sum \\,of \\,row}$.\n",
        "\n",
        "This can be easily done with vectorization. First you will compute the sum of each row:"
      ]
    },
    {
      "cell_type": "code",
      "execution_count": null,
      "metadata": {
        "id": "2NVb3j0Gyw4f",
        "outputId": "c348b7a0-12fe-46f9-d766-e9ed5500d796"
      },
      "outputs": [
        {
          "data": {
            "text/plain": [
              "array([[2392.8],\n",
              "       [ 347.6],\n",
              "       [  93.6]])"
            ]
          },
          "execution_count": 11,
          "metadata": {},
          "output_type": "execute_result"
        }
      ],
      "source": [
        "# Compute sum of row for each row\n",
        "rows_sum = transition_matrix.sum(axis=1, keepdims=True)\n",
        "\n",
        "# Print sum of rows\n",
        "rows_sum"
      ]
    },
    {
      "cell_type": "markdown",
      "metadata": {
        "id": "ZuLfJRXcyw4f"
      },
      "source": [
        "Notice that the `sum()` method was used. This method does exactly what its name implies. Since the sum of the rows was desired the axis was set to `1`. In Numpy `axis=1` refers to the columns so the sum is done by summing each column of a particular row, for each row.\n",
        "\n",
        "Also the `keepdims` parameter was set to `True` so the resulting array had shape `(3, 1)` rather than `(3,)`. This was done so that the axes were consistent with the desired operation.\n",
        "\n",
        "When working with Numpy, always remember to check the shape of the arrays you are working with, many unexpected errors happen because of axes not being consistent. The `shape` attribute is your friend for these cases."
      ]
    },
    {
      "cell_type": "code",
      "execution_count": null,
      "metadata": {
        "id": "tN0k2jUwyw4f",
        "outputId": "a7484459-6fc8-454e-bf72-bdd7888fa6f8"
      },
      "outputs": [
        {
          "name": "stdout",
          "output_type": "stream",
          "text": [
            "          NN        RB        TO\n",
            "NN  0.678745  0.101596  0.219659\n",
            "RB  0.102992  0.651036  0.245972\n",
            "TO  0.784188  0.213675  0.002137\n"
          ]
        }
      ],
      "source": [
        "# Normalize transition matrix\n",
        "transition_matrix = transition_matrix / rows_sum\n",
        "\n",
        "# Print normalized matrix\n",
        "print_matrix(transition_matrix)"
      ]
    },
    {
      "cell_type": "markdown",
      "metadata": {
        "id": "vAQckthYyw4g"
      },
      "source": [
        "Notice that the normalization that was carried out forces the sum of each row to be equal to `1`. You can easily check this by running the `sum` method on the resulting matrix:"
      ]
    },
    {
      "cell_type": "code",
      "execution_count": null,
      "metadata": {
        "id": "8BwuVIGdyw4g",
        "outputId": "a4d87b09-11c9-4c4e-bb85-334548a159af"
      },
      "outputs": [
        {
          "data": {
            "text/plain": [
              "array([[1.],\n",
              "       [1.],\n",
              "       [1.]])"
            ]
          },
          "execution_count": 13,
          "metadata": {},
          "output_type": "execute_result"
        }
      ],
      "source": [
        "transition_matrix.sum(axis=1, keepdims=True)"
      ]
    },
    {
      "cell_type": "markdown",
      "metadata": {
        "id": "OTFr92Zvyw4g"
      },
      "source": [
        "For a final example you are asked to modify each value of the diagonal of the matrix so that they are equal to the `log` of the sum of the current row plus the current value. When doing mathematical operations like this one don't forget to import the `math` module.\n",
        "\n",
        "This can be done using a standard `for loop` or `vectorization`. You'll see both in action:"
      ]
    },
    {
      "cell_type": "code",
      "execution_count": null,
      "metadata": {
        "id": "AfsWfGQpyw4g"
      },
      "outputs": [],
      "source": [
        "import math\n",
        "\n",
        "# Copy transition matrix for for-loop example\n",
        "t_matrix_for = np.copy(transition_matrix)\n",
        "\n",
        "# Copy transition matrix for numpy functions example\n",
        "t_matrix_np = np.copy(transition_matrix)"
      ]
    },
    {
      "cell_type": "markdown",
      "metadata": {
        "id": "4v8BDlSVyw4g"
      },
      "source": [
        "#### Using a for-loop"
      ]
    },
    {
      "cell_type": "code",
      "execution_count": null,
      "metadata": {
        "id": "H48qnw7jyw4g",
        "outputId": "d139d2e4-0247-4813-bb71-a7e32a51e7e0"
      },
      "outputs": [
        {
          "name": "stdout",
          "output_type": "stream",
          "text": [
            "          NN        RB        TO\n",
            "NN  8.458964  0.101596  0.219659\n",
            "RB  0.102992  6.502088  0.245972\n",
            "TO  0.784188  0.213675  4.541167\n"
          ]
        }
      ],
      "source": [
        "# Loop values in the diagonal\n",
        "for i in range(num_tags):\n",
        "    t_matrix_for[i, i] =  t_matrix_for[i, i] + math.log(rows_sum[i])\n",
        "\n",
        "# Print matrix\n",
        "print_matrix(t_matrix_for)"
      ]
    },
    {
      "cell_type": "markdown",
      "metadata": {
        "id": "1QR3nqdEyw4g"
      },
      "source": [
        "#### Using vectorization"
      ]
    },
    {
      "cell_type": "code",
      "execution_count": null,
      "metadata": {
        "id": "QIaFGvW_yw4g",
        "outputId": "cbc19ba3-400e-4007-f17c-cbf4fe40e818"
      },
      "outputs": [
        {
          "data": {
            "text/plain": [
              "(3,)"
            ]
          },
          "execution_count": 16,
          "metadata": {},
          "output_type": "execute_result"
        }
      ],
      "source": [
        "# Save diagonal in a numpy array\n",
        "d = np.diag(t_matrix_np)\n",
        "\n",
        "# Print shape of diagonal\n",
        "d.shape"
      ]
    },
    {
      "cell_type": "markdown",
      "metadata": {
        "id": "S1UMGiBiyw4h"
      },
      "source": [
        "You can save the diagonal in a numpy array using Numpy's `diag()` function. Notice that this array has shape `(3,)` so it is inconsistent with the dimensions of the `rows_sum` array which are `(3, 1)`. You'll have to reshape before moving forward. For this you can use Numpy's `reshape()` function, specifying the desired shape in a tuple:"
      ]
    },
    {
      "cell_type": "code",
      "execution_count": null,
      "metadata": {
        "id": "oLVC6Bb2yw4h",
        "outputId": "09581848-232f-41aa-a9d7-3887cd76beea"
      },
      "outputs": [
        {
          "data": {
            "text/plain": [
              "(3, 1)"
            ]
          },
          "execution_count": 17,
          "metadata": {},
          "output_type": "execute_result"
        }
      ],
      "source": [
        "# Reshape diagonal numpy array\n",
        "d = np.reshape(d, (3,1))\n",
        "\n",
        "# Print shape of diagonal\n",
        "d.shape"
      ]
    },
    {
      "cell_type": "markdown",
      "metadata": {
        "id": "xObFO1qpyw4h"
      },
      "source": [
        "Now that the diagonal has the correct shape you can do the vectorized operation by applying the `math.log()` function to the `rows_sum` array and adding the diagonal.\n",
        "\n",
        "To apply a function to each element of a numpy array use Numpy's `vectorize()` function providing the desired function as a parameter. This function returns a vectorized function that accepts a numpy array as a parameter.\n",
        "\n",
        "To update the original matrix you can use Numpy's `fill_diagonal()` function."
      ]
    },
    {
      "cell_type": "code",
      "execution_count": null,
      "metadata": {
        "id": "BYaKhcM5yw4i",
        "outputId": "d9411563-f7ea-4956-ce49-777c022f8e46"
      },
      "outputs": [
        {
          "name": "stdout",
          "output_type": "stream",
          "text": [
            "          NN        RB        TO\n",
            "NN  8.458964  0.101596  0.219659\n",
            "RB  0.102992  6.502088  0.245972\n",
            "TO  0.784188  0.213675  4.541167\n"
          ]
        }
      ],
      "source": [
        "# Perform the vectorized operation\n",
        "d = d + np.vectorize(math.log)(rows_sum)\n",
        "\n",
        "# Use numpy's 'fill_diagonal' function to update the diagonal\n",
        "np.fill_diagonal(t_matrix_np, d)\n",
        "\n",
        "# Print the matrix\n",
        "print_matrix(t_matrix_np)"
      ]
    },
    {
      "cell_type": "markdown",
      "metadata": {
        "id": "VI073O_fyw4i"
      },
      "source": [
        "To perform a sanity check that both methods yield the same result you can compare both matrices. Notice that this operation is also vectorized so you will get the equality check for each element in both matrices:"
      ]
    },
    {
      "cell_type": "code",
      "execution_count": null,
      "metadata": {
        "id": "xqZu7cWtyw4j",
        "outputId": "f2f756c8-1710-48be-8296-fb558a36694a"
      },
      "outputs": [
        {
          "data": {
            "text/plain": [
              "array([[ True,  True,  True],\n",
              "       [ True,  True,  True],\n",
              "       [ True,  True,  True]])"
            ]
          },
          "execution_count": 19,
          "metadata": {},
          "output_type": "execute_result"
        }
      ],
      "source": [
        "# Check for equality\n",
        "t_matrix_for == t_matrix_np"
      ]
    },
    {
      "cell_type": "markdown",
      "metadata": {
        "id": "mNEDtMioyw4j"
      },
      "source": [
        "**Congratulations on finishing this lecture notebook!** Now you should be more familiar with some elements used by a POS tagger such as the `transition_counts` dictionary and with working with Numpy.\n",
        "\n",
        "**Keep it up!**"
      ]
    }
  ],
  "metadata": {
    "kernelspec": {
      "display_name": "Python 3",
      "language": "python",
      "name": "python3"
    },
    "language_info": {
      "codemirror_mode": {
        "name": "ipython",
        "version": 3
      },
      "file_extension": ".py",
      "mimetype": "text/x-python",
      "name": "python",
      "nbconvert_exporter": "python",
      "pygments_lexer": "ipython3",
      "version": "3.7.6"
    },
    "colab": {
      "provenance": [],
      "include_colab_link": true
    }
  },
  "nbformat": 4,
  "nbformat_minor": 0
}